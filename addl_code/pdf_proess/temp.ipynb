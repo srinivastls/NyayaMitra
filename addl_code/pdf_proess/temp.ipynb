{
 "cells": [
  {
   "cell_type": "code",
   "execution_count": 1,
   "metadata": {},
   "outputs": [],
   "source": [
    "data = {\"Act 2 of 1956\": [\n",
    "        \"Published on 14 February 1956\",\n",
    "        \"\\u2022\",\n",
    "        \"Commenced on 14 February 1956\",\n",
    "        \"\\u2022\",\n",
    "        \"[This is the version of this document from 14 February 1956.]\",\n",
    "        \"\\u2022\",\n",
    "        \"[Note: The original publication document is not available and this content could not be\",\n",
    "        \"verified.]\",\n",
    "        \"\\u2022\",\n",
    "        \"Greater Hyderabad Municipal Corporation Act, 1955(Act No. 2 of 1956)Last Updated 10th June,\",\n",
    "        \"2019The Hyderabad Municipal Corporations Act, 1955 received the assent of the President on the\",\n",
    "        \"14th February, 1956. The said Act as amended and in force in the combined State, as on 02.06.2014,\",\n",
    "        \"has been adapted to the State of Telangana, under section 101 of the Andhra Pradesh Reorganisation\",\n",
    "        \"Act, 2014 (Central Act 6 of 2014) vide. the Notification issued in G.O.Ms.No.134, MA&UD (F2)\",\n",
    "        \"Department, dated 13.10.2015.Chapter - I Preliminary\"\n",
    "    ]}"
   ]
  },
  {
   "cell_type": "code",
   "execution_count": 3,
   "metadata": {},
   "outputs": [
    {
     "name": "stdout",
     "output_type": "stream",
     "text": [
      "Act 2 of 1956\n",
      "Published on 14 February 1956 • Commenced on 14 February 1956 • [This is the version of this document from 14 February 1956.] • [Note: The original publication document is not available and this content could not be verified.] • Greater Hyderabad Municipal Corporation Act, 1955(Act No. 2 of 1956)Last Updated 10th June, 2019The Hyderabad Municipal Corporations Act, 1955 received the assent of the President on the 14th February, 1956. The said Act as amended and in force in the combined State, as on 02.06.2014, has been adapted to the State of Telangana, under section 101 of the Andhra Pradesh Reorganisation Act, 2014 (Central Act 6 of 2014) vide. the Notification issued in G.O.Ms.No.134, MA&UD (F2) Department, dated 13.10.2015.Chapter - I Preliminary\n"
     ]
    }
   ],
   "source": [
    "for key , item in data.items():\n",
    "    print(key)\n",
    "    item_strig = \" \".join(item)\n",
    "    print(item_strig)"
   ]
  },
  {
   "cell_type": "code",
   "execution_count": 42,
   "metadata": {},
   "outputs": [
    {
     "name": "stdout",
     "output_type": "stream",
     "text": [
      "Total number of records in the collection: 5279\n"
     ]
    }
   ],
   "source": [
    "from pymilvus import Collection\n",
    "from pymilvus import connections, Collection, FieldSchema, CollectionSchema, DataType\n",
    "connections.connect(\n",
    "    host=\"localhost\", # Replace with your Milvus server IP\n",
    "    port=\"19530\"\n",
    ")\n",
    "# Load the collection by its name\n",
    "collection_name = \"section_collection\"  # Replace with your collection name\n",
    "collection = Collection(name=collection_name)\n",
    "collection.load()\n",
    "\n",
    "# Get the total number of entities in the collection\n",
    "total_records = collection.num_entities\n",
    "\n",
    "# Print the total number of records\n",
    "print(f\"Total number of records in the collection: {total_records}\")"
   ]
  }
 ],
 "metadata": {
  "kernelspec": {
   "display_name": ".venv",
   "language": "python",
   "name": "python3"
  },
  "language_info": {
   "codemirror_mode": {
    "name": "ipython",
    "version": 3
   },
   "file_extension": ".py",
   "mimetype": "text/x-python",
   "name": "python",
   "nbconvert_exporter": "python",
   "pygments_lexer": "ipython3",
   "version": "3.10.12"
  }
 },
 "nbformat": 4,
 "nbformat_minor": 2
}
