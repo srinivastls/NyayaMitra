{
 "cells": [
  {
   "cell_type": "markdown",
   "metadata": {},
   "source": [
    "## Downloading the files"
   ]
  },
  {
   "cell_type": "code",
   "execution_count": null,
   "metadata": {},
   "outputs": [],
   "source": [
    "import os\n",
    "import requests\n",
    "import warnings\n",
    "\n",
    "# Ignore warnings\n",
    "warnings.filterwarnings('ignore')\n",
    "\n",
    "\n",
    "def download_pdf(url, folder):\n",
    "    # Get the file name from the URL\n",
    "    file_name = url.split('/')[-1]+'.pdf'\n",
    "    file_path = os.path.join(folder, file_name)\n",
    "    \n",
    "    try:\n",
    "        # Send HTTP request to the URL\n",
    "        response = requests.get(url,verify=False)  # Verify is set to False to ignore SSL certificate errors (if any\n",
    "        response.raise_for_status() \n",
    "        \n",
    "        # Write the content of the response to a file\n",
    "        with open(file_path, 'wb') as f:\n",
    "            f.write(response.content)\n",
    "        print(f'Successfully downloaded: {file_name}')\n",
    "    except requests.exceptions.RequestException as e:\n",
    "        print(f'Failed to download: {file_name}. Error: {e}')\n",
    "\n",
    "# Define the URL of the PDF and the folder to save it\n",
    "url = 'https://mhc.tn.gov.in/judis/index.php/casestatus/viewpdf/'\n",
    "folder = 'madras1'\n",
    "\n",
    "# Create the folder if it doesn't exist\n",
    "if not os.path.exists(folder):\n",
    "    os.makedirs(folder)\n",
    "\n",
    "# Download the PDF\n",
    "for i in range(886002,900000):\n",
    "    ur=url+str(i)\n",
    "    download_pdf(ur, folder)\n"
   ]
  },
  {
   "cell_type": "markdown",
   "metadata": {},
   "source": [
    "## listing the files in the folder"
   ]
  },
  {
   "cell_type": "code",
   "execution_count": null,
   "metadata": {},
   "outputs": [],
   "source": [
    "import os\n",
    "folder_path = 'madras1'  \n",
    "files = os.listdir(folder_path)\n",
    "num_files = len(files)\n",
    "files.sort(reverse=True)\n",
    "print(files[0])\n",
    "print(f\"Number of files in folder: {num_files}\")"
   ]
  },
  {
   "cell_type": "code",
   "execution_count": null,
   "metadata": {},
   "outputs": [],
   "source": [
    "import os\n",
    "folder_path = 'extracted/madras'  \n",
    "files1 = os.listdir(folder_path)\n",
    "num_files = len(files1)\n",
    "files1.sort(reverse=True)\n",
    "print(files1[1])\n",
    "print(f\"Number of files in folder: {num_files}\")\n",
    "last_file = files1[-1] if num_files > 0 else None\n",
    "print(f\"Last file name: {last_file}\")"
   ]
  },
  {
   "cell_type": "markdown",
   "metadata": {},
   "source": [
    "## file sizes"
   ]
  },
  {
   "cell_type": "code",
   "execution_count": null,
   "metadata": {},
   "outputs": [],
   "source": [
    "import os\n",
    "\n",
    "def get_file_size(file_path):\n",
    "    try:\n",
    "        size_bytes = os.path.getsize(file_path)\n",
    "        size_kb = size_bytes / 1024 \n",
    "        return size_kb\n",
    "    except Exception as e:\n",
    "        print(f\"Error getting file size: {str(e)}\")\n",
    "        return None\n",
    "li=[]\n",
    "for i in files:\n",
    "    size=get_file_size('madras1/'+(i))\n",
    "    if(size<1):\n",
    "        li.append(i)\n"
   ]
  },
  {
   "cell_type": "markdown",
   "metadata": {},
   "source": [
    "## deleting the empty files"
   ]
  },
  {
   "cell_type": "code",
   "execution_count": null,
   "metadata": {},
   "outputs": [],
   "source": [
    "import os\n",
    "import glob\n",
    "\n",
    "def delete_specific_files(folder_path, pattern):\n",
    "    files = glob.glob(os.path.join(folder_path, pattern))\n",
    "    print(len(files))\n",
    "    for file in files:\n",
    "\n",
    "        try:\n",
    "            if file[-10:] in li:\n",
    "                os.remove(file)\n",
    "                print(f\"Deleted: {file}\")\n",
    "        except Exception as e:\n",
    "            print(f\"Failed to delete {file}. Reason: {e}\")\n",
    "\n",
    "\n",
    "folder_path = 'madras1'\n",
    "pattern = '*.pdf'\n",
    "delete_specific_files(folder_path, pattern)"
   ]
  },
  {
   "cell_type": "markdown",
   "metadata": {},
   "source": [
    "## classifing as orders or Judgments"
   ]
  },
  {
   "cell_type": "code",
   "execution_count": null,
   "metadata": {},
   "outputs": [],
   "source": [
    "import pdfplumber\n",
    "import pandas as pd\n",
    "import os\n",
    "\n",
    "df=pd.DataFrame()\n",
    "def extract_text_between_headings(pdf_path):\n",
    "    try:\n",
    "        pdf = pdfplumber.open(pdf_path)\n",
    "    except FileNotFoundError:\n",
    "        print(f\"The file {pdf_path} was not found.\")\n",
    "        return \"\"\n",
    "    except Exception as e:\n",
    "        print(f\"An error occurred while opening the file: {e}\")\n",
    "        return \"\"\n",
    "\n",
    "    text = \"\"\n",
    "    for page in pdf.pages:\n",
    "        page_text =page.extract_text()\n",
    "        lines = page_text.split('\\n')\n",
    "        for line in lines:\n",
    "           \n",
    "            if line==\"ORDER\" or line== \"O R D E R\" or line==\"COMMON ORDER\" or line ==\"C O M M O N O R D E R\" or line==\"COMMON O R D E R\" or line==\"   RDER\":\n",
    "               print(line)\n",
    "               return None\n",
    "    return text.strip()\n",
    "files=os.listdir('madras1')\n",
    "print(len(files))\n",
    "l=[]\n",
    "orders=[]\n",
    "for i in files:\n",
    "  pdf_path = 'madras1/'+i\n",
    "  extracted_text = extract_text_between_headings(pdf_path)\n",
    "  if((extracted_text)!=None):\n",
    "    l.append(i)\n",
    "  else:\n",
    "     orders.append(i)\n"
   ]
  },
  {
   "cell_type": "markdown",
   "metadata": {},
   "source": [
    "## moving judgments to judgments folder"
   ]
  },
  {
   "cell_type": "code",
   "execution_count": null,
   "metadata": {},
   "outputs": [],
   "source": [
    "import shutil\n",
    "import os\n",
    "\n",
    "source_folder = 'madras'\n",
    "destination_folder = 'madras_extracted3'\n",
    "\n",
    "os.makedirs(destination_folder, exist_ok=True)\n",
    "\n",
    "for filename in files:\n",
    "    source_file = os.path.join(source_folder, filename)\n",
    "    destination_file = os.path.join(destination_folder, filename)\n",
    "    shutil.move(source_file, destination_file)\n",
    "\n",
    "print(\"Files moved successfully!\")\n"
   ]
  },
  {
   "cell_type": "markdown",
   "metadata": {},
   "source": [
    "## moving orders to orders folder"
   ]
  },
  {
   "cell_type": "code",
   "execution_count": null,
   "metadata": {},
   "outputs": [],
   "source": [
    "import shutil\n",
    "import os\n",
    "\n",
    "# Define source and destination folders\n",
    "source_folder = 'madras_extracted3'\n",
    "destination_folder = 'extracted/madras'\n",
    "\n",
    "# Ensure the destination folder exists\n",
    "os.makedirs(destination_folder, exist_ok=True)\n",
    "files=os.listdir(source_folder)\n",
    "print(len(files))\n",
    "# Move files\n",
    "for filename in files:\n",
    "    source_file = os.path.join(source_folder, filename)\n",
    "    destination_file = os.path.join(destination_folder, filename)\n",
    "    shutil.move(source_file, destination_file)\n",
    "\n",
    "print(\"Files moved successfully!\")\n"
   ]
  },
  {
   "cell_type": "markdown",
   "metadata": {},
   "source": [
    "## extracting the judgements"
   ]
  },
  {
   "cell_type": "code",
   "execution_count": null,
   "metadata": {},
   "outputs": [],
   "source": [
    "import pdfplumber\n",
    "import pandas as pd\n",
    "import os\n",
    "\n",
    "df=pd.DataFrame()\n",
    "def extract_text_between_headings(pdf_path, start_heading):\n",
    "    try:\n",
    "        # Open the PDF file\n",
    "        pdf = pdfplumber.open(pdf_path)\n",
    "    except FileNotFoundError:\n",
    "        print(f\"The file {pdf_path} was not found.\")\n",
    "        return \"\",\"\"\n",
    "    except Exception as e:\n",
    "        print(f\"An error occurred while opening the file: {e}\")\n",
    "        return \"\",\"\"\n",
    "    text = \"\"\n",
    "    text1=\"\"\n",
    "    extracting = True\n",
    "    extract2=False\n",
    "    flag=0\n",
    "    # Iterate through the pages\n",
    "    for page in pdf.pages:\n",
    "        page_text =page.extract_text()\n",
    "        lines = page_text.split('\\n')\n",
    "    \n",
    "        for line in lines:\n",
    "            #print(line)\n",
    "            if extract2==True and line !=\"http://www.judis.nic.in\" and len(line)>1: \n",
    "                text1+=line+'\\n'\n",
    "            if extracting == True and len(line)>1 and line !=\"http://www.judis.nic.in\":\n",
    "                text += line + '\\n'\n",
    "            if line==\"ORDER\" or line== \"O R D E R\" or line==\"COMMON ORDER\" or line ==\"C O M M O N O R D E R\" :\n",
    "                return 'order','order'\n",
    "            if start_heading == line or line == \"C O M M O N J U D G M E N T\" or  line==\"COMMON JUDGMENT\" or line==\"J U D G M E N T\" or line ==\"C O M M O N   J U D G M E N T\" or \"Judgment was delivered by\" in line or \"J U D G E M E N T\" == line or line ==\"COMMON JUDGEMENT\" or line ==\"C O M M O N J U D G E M E N T\" or line==\"JUDGEMENT\" or line==\"COMMONJUDGMENT\":\n",
    "                print(line)\n",
    "                flag=1\n",
    "                extracting = False\n",
    "                extract2=True\n",
    "            if line==\"To:\" or line==\"To\":\n",
    "                extract2=False\n",
    "                extracting=True\n",
    "    \n",
    "    if flag==0:\n",
    "        return '',''\n",
    "            \n",
    "    return text.strip(),text1.strip()\n",
    "\n",
    "\n",
    "judgment=[]\n",
    "meta_data=[]\n",
    "missing_files=[]\n",
    "extracted_files=[]\n",
    "files=os.listdir('madras')\n",
    "print(len(files))\n",
    "for i in files:\n",
    "  pdf_path = 'madras/'+i\n",
    "  start_heading = 'JUDGMENT'\n",
    "  extracted_text,extracted_judg = extract_text_between_headings(pdf_path, start_heading)\n",
    "  if(extra)\n",
    "  if(len(extracted_text)!=0) :\n",
    "    print(i)\n",
    "    extracted_files.append(i)\n",
    "    judgment.append(extracted_judg)\n",
    "    meta_data.append(extracted_text)\n",
    "\n",
    "  else:\n",
    "    missing_files.append(i)\n",
    "    print(f\"Could not extract text from file {i}\")\n",
    "\n",
    "df[\"meta data\"]=meta_data\n",
    "df[\"judgment\"]=judgment\n",
    "df[\"file_name\"]=extracted_files\n",
    "df.to_csv(\"madras_judgments4.csv\",index=False)\n"
   ]
  },
  {
   "cell_type": "code",
   "execution_count": null,
   "metadata": {},
   "outputs": [],
   "source": [
    "import shutil\n",
    "import os\n",
    "\n",
    "source_folder = 'madras1'\n",
    "destination_folder = 'Judgments/missing/madras'\n",
    "\n",
    "os.makedirs(destination_folder, exist_ok=True)\n",
    "files=os.listdir(source_folder)\n",
    "for filename  in missing_files:\n",
    "    source_file = os.path.join(source_folder, filename)\n",
    "    destination_file = os.path.join(destination_folder, filename)\n",
    "    shutil.move(source_file, destination_file)\n",
    "\n",
    "print(\"Files moved successfully!\")\n"
   ]
  },
  {
   "cell_type": "markdown",
   "metadata": {},
   "source": [
    "## removing Dummy files"
   ]
  },
  {
   "cell_type": "code",
   "execution_count": null,
   "metadata": {},
   "outputs": [],
   "source": [
    "import os\n",
    "import glob\n",
    "\n",
    "def delete_specific_files(folder_path, pattern):\n",
    "    files = glob.glob(os.path.join(folder_path, pattern))\n",
    "    for file in files:\n",
    "        try:\n",
    "            if file[-10:] in missing_files:\n",
    "                os.remove(file)\n",
    "                print(f\"Deleted: {file}\")\n",
    "        except Exception as e:\n",
    "            print(f\"Failed to delete {file}. Reason: {e}\")\n",
    "\n",
    "folder_path = 'madras_judgments'\n",
    "pattern = '*.PDF'\n",
    "delete_specific_files(folder_path, pattern)\n"
   ]
  },
  {
   "cell_type": "markdown",
   "metadata": {},
   "source": [
    "## moving the extracted judgments to extracted folder"
   ]
  },
  {
   "cell_type": "code",
   "execution_count": null,
   "metadata": {},
   "outputs": [],
   "source": [
    "import shutil\n",
    "import os\n",
    "\n",
    "source_folder = 'madras'\n",
    "destination_folder = 'orders/madras'\n",
    "\n",
    "os.makedirs(destination_folder, exist_ok=True)\n",
    "files=os.listdir(source_folder)\n",
    "for filename  in files:\n",
    "    source_file = os.path.join(source_folder, filename)\n",
    "    destination_file = os.path.join(destination_folder, filename)\n",
    "    shutil.move(source_file, destination_file)\n",
    "\n",
    "print(\"Files moved successfully!\")\n"
   ]
  },
  {
   "cell_type": "code",
   "execution_count": null,
   "metadata": {},
   "outputs": [],
   "source": []
  }
 ],
 "metadata": {
  "kernelspec": {
   "display_name": "scrape",
   "language": "python",
   "name": "python3"
  },
  "language_info": {
   "codemirror_mode": {
    "name": "ipython",
    "version": 3
   },
   "file_extension": ".py",
   "mimetype": "text/x-python",
   "name": "python",
   "nbconvert_exporter": "python",
   "pygments_lexer": "ipython3",
   "version": "3.10.12"
  }
 },
 "nbformat": 4,
 "nbformat_minor": 2
}
